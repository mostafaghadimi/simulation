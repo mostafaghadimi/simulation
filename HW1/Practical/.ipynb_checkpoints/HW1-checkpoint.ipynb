{
 "cells": [
  {
   "cell_type": "code",
   "execution_count": null,
   "metadata": {},
   "outputs": [],
   "source": [
    "https://github.com/mohit-surana/sms/blob/e7e13acc60240b3d4f398a7f4d111857af7cb074/lab5/dump_truck.py"
   ]
  },
  {
   "cell_type": "code",
   "execution_count": 46,
   "metadata": {
    "ExecuteTime": {
     "end_time": "2020-11-06T20:26:55.005717Z",
     "start_time": "2020-11-06T20:26:54.999683Z"
    }
   },
   "outputs": [],
   "source": [
    "import numpy as np\n",
    "from math import pow"
   ]
  },
  {
   "cell_type": "code",
   "execution_count": 19,
   "metadata": {
    "ExecuteTime": {
     "end_time": "2020-11-06T20:08:25.606990Z",
     "start_time": "2020-11-06T20:08:25.589052Z"
    }
   },
   "outputs": [
    {
     "data": {
      "text/plain": [
       "array([ 8, 10,  6,  6, 10])"
      ]
     },
     "execution_count": 19,
     "metadata": {},
     "output_type": "execute_result"
    }
   ],
   "source": [
    "np.random.choice([6, 8, 10, 12], p=[0.25, 0.35, 0.3, 0.1], size=5)"
   ]
  },
  {
   "cell_type": "code",
   "execution_count": 47,
   "metadata": {
    "ExecuteTime": {
     "end_time": "2020-11-06T20:27:01.846705Z",
     "start_time": "2020-11-06T20:27:01.809991Z"
    }
   },
   "outputs": [
    {
     "data": {
      "text/plain": [
       "7.881563867187496e-05"
      ]
     },
     "execution_count": 47,
     "metadata": {},
     "output_type": "execute_result"
    }
   ],
   "source": [
    "pow(0.35, 9)"
   ]
  },
  {
   "cell_type": "code",
   "execution_count": 41,
   "metadata": {
    "ExecuteTime": {
     "end_time": "2020-11-06T20:13:33.229334Z",
     "start_time": "2020-11-06T20:13:33.219104Z"
    }
   },
   "outputs": [
    {
     "name": "stdout",
     "output_type": "stream",
     "text": [
      "customers [10  8  6  6  8]\n",
      "[2 2 1 2 2 1 2 2 2 3]\n",
      "[1 2 2 2 2 1 1 3]\n",
      "[4 2 3 2 1 3]\n",
      "[2 1 3 2 1 3]\n",
      "[4 2 1 1 1 1 3 2]\n"
     ]
    }
   ],
   "source": [
    "customers = np.random.choice([6, 8, 10, 12], p=[0.25, 0.35, 0.3, 0.1], size=(5))\n",
    "print('customers', customers)\n",
    "for x in customers:\n",
    "    print(np.random.choice([1, 2, 3, 4], p=[0.35, 0.45, 0.15, 0.05], size=(x)))\n",
    "    "
   ]
  },
  {
   "cell_type": "code",
   "execution_count": 43,
   "metadata": {
    "ExecuteTime": {
     "end_time": "2020-11-06T20:16:42.176298Z",
     "start_time": "2020-11-06T20:16:42.120387Z"
    }
   },
   "outputs": [
    {
     "name": "stdout",
     "output_type": "stream",
     "text": [
      "day 1 :\n",
      "number of customers: 8\n",
      "number of bread loafs each customer wanted: [2, 3, 1, 3, 3, 2, 2, 3] \n",
      "\n",
      "day 2 :\n",
      "number of customers: 10\n",
      "number of bread loafs each customer wanted: [2, 1, 1, 1, 2, 1, 2, 2, 2, 2] \n",
      "\n",
      "day 3 :\n",
      "number of customers: 10\n",
      "number of bread loafs each customer wanted: [1, 1, 2, 1, 2, 2, 1, 3, 1, 2] \n",
      "\n",
      "day 4 :\n",
      "number of customers: 10\n",
      "number of bread loafs each customer wanted: [1, 3, 2, 2, 2, 3, 2, 2, 1, 1] \n",
      "\n",
      "day 5 :\n",
      "number of customers: 8\n",
      "number of bread loafs each customer wanted: [1, 2, 1, 2, 1, 3, 2, 2] \n",
      "\n"
     ]
    }
   ],
   "source": [
    "c= []\n",
    "for i in range(5):\n",
    "    print('day',i+1,':')\n",
    "    x = np.random.choice([6, 8, 10, 12], p=[0.25, 0.35, 0.3, 0.1])\n",
    "    print('number of customers:', x)\n",
    "    d = []\n",
    "    for j in range(x):\n",
    "        y = np.random.choice([1, 2, 3, 4], p=[0.35, 0.45, 0.15, 0.05])\n",
    "        d += [y]\n",
    "    print('number of bread loafs each customer wanted:', d,'\\n')\n",
    "    c += [sum(d)]"
   ]
  },
  {
   "cell_type": "code",
   "execution_count": 44,
   "metadata": {
    "ExecuteTime": {
     "end_time": "2020-11-06T20:17:15.752376Z",
     "start_time": "2020-11-06T20:17:15.724243Z"
    }
   },
   "outputs": [
    {
     "ename": "SyntaxError",
     "evalue": "unexpected EOF while parsing (<ipython-input-44-45816a271be7>, line 2)",
     "output_type": "error",
     "traceback": [
      "\u001b[0;36m  File \u001b[0;32m\"<ipython-input-44-45816a271be7>\"\u001b[0;36m, line \u001b[0;32m2\u001b[0m\n\u001b[0;31m    print(['روز %d & %d \\\\' % (i + 1, c) for i, c in enumerate(customers)].join('\\n')\u001b[0m\n\u001b[0m                                                                                     ^\u001b[0m\n\u001b[0;31mSyntaxError\u001b[0m\u001b[0;31m:\u001b[0m unexpected EOF while parsing\n"
     ]
    }
   ],
   "source": [
    "customers = np.random.choice([6, 8, 10, 12], p=[0.25, 0.35, 0.3, 0.1], size=(5))\n",
    "print(['روز %d & %d \\\\' % (i + 1, c) for i, c in enumerate(customers)].join('\\n')"
   ]
  },
  {
   "cell_type": "code",
   "execution_count": 45,
   "metadata": {
    "ExecuteTime": {
     "end_time": "2020-11-06T20:18:03.994088Z",
     "start_time": "2020-11-06T20:18:03.937899Z"
    }
   },
   "outputs": [
    {
     "name": "stdout",
     "output_type": "stream",
     "text": [
      "روز 1 & 8 \\\\\n",
      "روز 2 & 6 \\\\\n",
      "روز 3 & 10 \\\\\n",
      "روز 4 & 6 \\\\\n",
      "روز 5 & 6 \\\\\n",
      "\n",
      "    روز 1\n",
      "    \\begin{tabular}{c|c}\n",
      "مشتری 1 & 2 \\\\\n",
      "مشتری 2 & 4 \\\\\n",
      "مشتری 3 & 1 \\\\\n",
      "مشتری 4 & 2 \\\\\n",
      "مشتری 5 & 3 \\\\\n",
      "مشتری 6 & 1 \\\\\n",
      "مشتری 7 & 2 \\\\\n",
      "مشتری 8 & 2 \\\\\n",
      "\\end{tabular}\n",
      "\n",
      "    روز 2\n",
      "    \\begin{tabular}{c|c}\n",
      "مشتری 1 & 3 \\\\\n",
      "مشتری 2 & 1 \\\\\n",
      "مشتری 3 & 2 \\\\\n",
      "مشتری 4 & 3 \\\\\n",
      "مشتری 5 & 2 \\\\\n",
      "مشتری 6 & 3 \\\\\n",
      "\\end{tabular}\n",
      "\n",
      "    روز 3\n",
      "    \\begin{tabular}{c|c}\n",
      "مشتری 1 & 1 \\\\\n",
      "مشتری 2 & 1 \\\\\n",
      "مشتری 3 & 1 \\\\\n",
      "مشتری 4 & 1 \\\\\n",
      "مشتری 5 & 1 \\\\\n",
      "مشتری 6 & 1 \\\\\n",
      "مشتری 7 & 4 \\\\\n",
      "مشتری 8 & 1 \\\\\n",
      "مشتری 9 & 3 \\\\\n",
      "مشتری 10 & 2 \\\\\n",
      "\\end{tabular}\n",
      "\n",
      "    روز 4\n",
      "    \\begin{tabular}{c|c}\n",
      "مشتری 1 & 2 \\\\\n",
      "مشتری 2 & 1 \\\\\n",
      "مشتری 3 & 3 \\\\\n",
      "مشتری 4 & 3 \\\\\n",
      "مشتری 5 & 3 \\\\\n",
      "مشتری 6 & 2 \\\\\n",
      "\\end{tabular}\n",
      "\n",
      "    روز 5\n",
      "    \\begin{tabular}{c|c}\n",
      "مشتری 1 & 2 \\\\\n",
      "مشتری 2 & 1 \\\\\n",
      "مشتری 3 & 1 \\\\\n",
      "مشتری 4 & 2 \\\\\n",
      "مشتری 5 & 2 \\\\\n",
      "مشتری 6 & 4 \\\\\n",
      "\\end{tabular}\n"
     ]
    }
   ],
   "source": [
    "customers = np.random.choice([6, 8, 10, 12], p=[0.25, 0.35, 0.3, 0.1], size=(5))\n",
    "print('\\n'.join(['روز %d & %d \\\\\\\\' % (i + 1, c) for i, c in enumerate(customers)]))\n",
    "for i, x in enumerate(customers):\n",
    "    print(\"\"\"\n",
    "    روز %d\n",
    "    \\\\begin{tabular}{c|c}\"\"\" % (i + 1))   \n",
    "    print(\"\\n\".join([\"مشتری %d & %d \\\\\\\\\" % (i + 1, x) for i, x in enumerate(np.random.choice([1, 2, 3, 4], p=[0.35, 0.45, 0.15, 0.05], size=(x)))]))\n",
    "    print(\"\"\"\\\\end{tabular}\"\"\")"
   ]
  },
  {
   "cell_type": "markdown",
   "metadata": {},
   "source": [
    "# 4"
   ]
  },
  {
   "cell_type": "markdown",
   "metadata": {},
   "source": [
    "A) Average of two random points distance on circle"
   ]
  },
  {
   "cell_type": "code",
   "execution_count": 7,
   "metadata": {
    "ExecuteTime": {
     "end_time": "2020-11-06T18:21:50.246427Z",
     "start_time": "2020-11-06T18:21:50.239418Z"
    }
   },
   "outputs": [],
   "source": [
    "import random\n",
    "from math import sqrt"
   ]
  },
  {
   "cell_type": "code",
   "execution_count": 10,
   "metadata": {
    "ExecuteTime": {
     "end_time": "2020-11-06T18:24:20.748218Z",
     "start_time": "2020-11-06T18:24:17.280615Z"
    }
   },
   "outputs": [
    {
     "data": {
      "text/plain": [
       "1.0236094128051214"
      ]
     },
     "execution_count": 10,
     "metadata": {},
     "output_type": "execute_result"
    }
   ],
   "source": [
    "N = 1000000\n",
    "distances = list()\n",
    "\n",
    "def point_generator():\n",
    "    x = random.random()\n",
    "    y = sqrt(1 - (x * x))\n",
    "    negative = random.randint(0, 1)\n",
    "    if negative:\n",
    "        y = -y\n",
    "    return x, y\n",
    "\n",
    "for i in range(N):\n",
    "    x_1, y_1 = point_generator()\n",
    "    x_2, y_2 = point_generator()\n",
    "    \n",
    "    distance = sqrt((x_2 - x_1) * (x_2 - x_1) + (y_2 - y_1) * (y_2 - y_1))\n",
    "    distances.append(distance)\n",
    "\n",
    "mean = sum(distances) / N\n",
    "mean"
   ]
  },
  {
   "cell_type": "markdown",
   "metadata": {},
   "source": [
    "B) General Answer"
   ]
  },
  {
   "cell_type": "markdown",
   "metadata": {},
   "source": [
    "$$\n",
    "average \\: value \\: d(\\theta) = \\frac{1}{\\pi - 0}\\int_{0}^{\\pi}2sin\\frac{\\theta}{2}d\\theta = \\frac{1}{\\pi}(-4cos(\\frac{\\theta}{2}))_0^{\\pi} = \\frac{4}{\\pi} = 1.27\n",
    "$$"
   ]
  },
  {
   "cell_type": "code",
   "execution_count": null,
   "metadata": {},
   "outputs": [],
   "source": []
  }
 ],
 "metadata": {
  "kernelspec": {
   "display_name": "Python 3",
   "language": "python",
   "name": "python3"
  },
  "language_info": {
   "codemirror_mode": {
    "name": "ipython",
    "version": 3
   },
   "file_extension": ".py",
   "mimetype": "text/x-python",
   "name": "python",
   "nbconvert_exporter": "python",
   "pygments_lexer": "ipython3",
   "version": "3.6.9"
  }
 },
 "nbformat": 4,
 "nbformat_minor": 2
}
