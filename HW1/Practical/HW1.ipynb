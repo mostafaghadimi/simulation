{
 "cells": [
  {
   "cell_type": "markdown",
   "metadata": {},
   "source": [
    "# 3"
   ]
  },
  {
   "cell_type": "code",
   "execution_count": 99,
   "metadata": {
    "ExecuteTime": {
     "end_time": "2020-11-07T13:56:26.693793Z",
     "start_time": "2020-11-07T13:56:26.647534Z"
    }
   },
   "outputs": [
    {
     "name": "stdout",
     "output_type": "stream",
     "text": [
      "day 1\n",
      "# of customers: 10\n",
      "# of breads: [1, 2, 2, 2, 2, 1, 3, 1, 1, 2] \n",
      "\n",
      "day 2\n",
      "# of customers: 8\n",
      "# of breads: [2, 2, 3, 1, 2, 1, 3, 2] \n",
      "\n",
      "day 3\n",
      "# of customers: 8\n",
      "# of breads: [1, 1, 3, 2, 2, 3, 1, 2] \n",
      "\n",
      "day 4\n",
      "# of customers: 8\n",
      "# of breads: [3, 4, 2, 2, 2, 2, 2, 3] \n",
      "\n",
      "day 5\n",
      "# of customers: 6\n",
      "# of breads: [1, 2, 4, 2, 1, 3] \n",
      "\n"
     ]
    },
    {
     "data": {
      "text/plain": [
       "16.2"
      ]
     },
     "execution_count": 99,
     "metadata": {},
     "output_type": "execute_result"
    }
   ],
   "source": [
    "c= []\n",
    "for i in range(5):\n",
    "    print('day', i+1)\n",
    "    x = np.random.choice([6, 8, 10, 12], p=[0.25, 0.35, 0.3, 0.1])\n",
    "    print('# of customers:', x)\n",
    "    d = []\n",
    "    for j in range(x):\n",
    "        y = np.random.choice([1, 2, 3, 4], p=[0.35, 0.45, 0.15, 0.05])\n",
    "        d += [y]\n",
    "    print('# of breads:', d,'\\n')\n",
    "    c += [sum(d)]\n",
    "    \n",
    "sum(c)/5"
   ]
  },
  {
   "cell_type": "markdown",
   "metadata": {},
   "source": [
    "# 4"
   ]
  },
  {
   "cell_type": "markdown",
   "metadata": {},
   "source": [
    "A) Average of two random points distance on circle"
   ]
  },
  {
   "cell_type": "code",
   "execution_count": 7,
   "metadata": {
    "ExecuteTime": {
     "end_time": "2020-11-06T18:21:50.246427Z",
     "start_time": "2020-11-06T18:21:50.239418Z"
    }
   },
   "outputs": [],
   "source": [
    "import random\n",
    "from math import sqrt"
   ]
  },
  {
   "cell_type": "code",
   "execution_count": 10,
   "metadata": {
    "ExecuteTime": {
     "end_time": "2020-11-06T18:24:20.748218Z",
     "start_time": "2020-11-06T18:24:17.280615Z"
    }
   },
   "outputs": [
    {
     "data": {
      "text/plain": [
       "1.0236094128051214"
      ]
     },
     "execution_count": 10,
     "metadata": {},
     "output_type": "execute_result"
    }
   ],
   "source": [
    "N = 1000000\n",
    "distances = list()\n",
    "\n",
    "def point_generator():\n",
    "    x = random.random()\n",
    "    y = sqrt(1 - (x * x))\n",
    "    negative = random.randint(0, 1)\n",
    "    if negative:\n",
    "        y = -y\n",
    "    return x, y\n",
    "\n",
    "for i in range(N):\n",
    "    x_1, y_1 = point_generator()\n",
    "    x_2, y_2 = point_generator()\n",
    "    \n",
    "    distance = sqrt((x_2 - x_1) * (x_2 - x_1) + (y_2 - y_1) * (y_2 - y_1))\n",
    "    distances.append(distance)\n",
    "\n",
    "mean = sum(distances) / N\n",
    "mean"
   ]
  },
  {
   "cell_type": "markdown",
   "metadata": {},
   "source": [
    "B) General Answer"
   ]
  },
  {
   "cell_type": "markdown",
   "metadata": {},
   "source": [
    "$$\n",
    "average \\: value \\: d(\\theta) = \\frac{1}{\\pi - 0}\\int_{0}^{\\pi}2sin\\frac{\\theta}{2}d\\theta = \\frac{1}{\\pi}(-4cos(\\frac{\\theta}{2}))_0^{\\pi} = \\frac{4}{\\pi} = 1.27\n",
    "$$"
   ]
  },
  {
   "cell_type": "markdown",
   "metadata": {},
   "source": [
    "# 5"
   ]
  },
  {
   "cell_type": "markdown",
   "metadata": {},
   "source": [
    "A) Python"
   ]
  },
  {
   "cell_type": "markdown",
   "metadata": {},
   "source": [
    "C) We can generate a random number using `np.random.choice` method. It can be seen in the code."
   ]
  },
  {
   "cell_type": "code",
   "execution_count": 1,
   "metadata": {
    "ExecuteTime": {
     "end_time": "2020-11-07T14:53:37.007743Z",
     "start_time": "2020-11-07T14:53:36.994372Z"
    }
   },
   "outputs": [],
   "source": [
    "NUMBER_OF_TRUCKS, NUMBER_OF_LOADERS = 9, 2\n",
    "t, MAX_TRAVELS_NUMBER = 0, 100"
   ]
  },
  {
   "cell_type": "markdown",
   "metadata": {},
   "source": [
    "## States"
   ]
  },
  {
   "cell_type": "code",
   "execution_count": 2,
   "metadata": {
    "ExecuteTime": {
     "end_time": "2020-11-07T14:53:37.771222Z",
     "start_time": "2020-11-07T14:53:37.758372Z"
    }
   },
   "outputs": [],
   "source": [
    "LOADING_QUEUE = 1\n",
    "LOADING = 2\n",
    "WEIGHING_QUEUE = 3\n",
    "WEIGHING = 4\n",
    "TRAVELING = 5"
   ]
  },
  {
   "cell_type": "code",
   "execution_count": 4,
   "metadata": {
    "ExecuteTime": {
     "end_time": "2020-11-07T14:53:52.769804Z",
     "start_time": "2020-11-07T14:53:52.758458Z"
    }
   },
   "outputs": [],
   "source": [
    "traveling_probabilities = [0.4, 0.3, 0.2, 0.1]\n",
    "traveling_times = [40, 60, 80, 100]\n",
    "\n",
    "weighing_probabilities = [0.7, 0.3]\n",
    "weighing_times = [12, 16]\n",
    "\n",
    "loading_probabilities = [0.3, 0.5, 0.2]\n",
    "loading_times = [5, 10, 15]"
   ]
  },
  {
   "cell_type": "markdown",
   "metadata": {},
   "source": [
    "## Truck Class"
   ]
  },
  {
   "cell_type": "code",
   "execution_count": 123,
   "metadata": {
    "ExecuteTime": {
     "end_time": "2020-11-07T14:11:23.816170Z",
     "start_time": "2020-11-07T14:11:23.786016Z"
    }
   },
   "outputs": [],
   "source": [
    "class Truck:\n",
    "    def __init__(self, plate):\n",
    "        self.plate = plate\n",
    "        self.state = LOADING_QUEUE\n",
    "        self.traveling_time = 0\n",
    "        self.spent_time = 0\n",
    "    \n",
    "    \n",
    "    def traveling(self):\n",
    "        random = np.random.choice(traveling_times, p=traveling_probabilities, size=(1))[0]\n",
    "        self.spent_time = 0\n",
    "        self.traveling_time = random\n",
    "        self.state = TRAVELING\n",
    "    \n",
    "    \n",
    "    def ended(self):\n",
    "        if self.spent_time == self.traveling_time:\n",
    "            print(\"truck {} ended traveling at {}\".format(self.plate, t))\n",
    "            self.traveling_time = 0\n",
    "            self.spent_time = 0\n",
    "            return True\n",
    "        \n",
    "        return False"
   ]
  },
  {
   "cell_type": "markdown",
   "metadata": {},
   "source": [
    "## Scaler class"
   ]
  },
  {
   "cell_type": "code",
   "execution_count": 131,
   "metadata": {
    "ExecuteTime": {
     "end_time": "2020-11-07T14:29:08.054014Z",
     "start_time": "2020-11-07T14:29:07.967085Z"
    }
   },
   "outputs": [],
   "source": [
    "class Scaler:\n",
    "    def __init__(self):\n",
    "        self.truck = None\n",
    "        self.weighing_time = 0\n",
    "        self.spent_time = 0\n",
    "    \n",
    "    \n",
    "    def add_truck(self, truck):\n",
    "        if truck:\n",
    "            self.weighing_time = np.random.choice(weighing_times, p=weighing_probabilities, size=(1))[0]\n",
    "            self.truck = truck\n",
    "            self.spent_time = 0\n",
    "            truck.state = WEIGHING\n",
    "            print(\"truck {} is weighing for {}\".format(truck.plate, self.weighing_time))\n",
    "        \n",
    "    def ended(self):\n",
    "        if self.spent_time == self.weighing_time:\n",
    "            print(\"truck {} ended weighing at {}\".format(self.truck.plate, t))\n",
    "            truck = self.truck\n",
    "            self.weighing_time = 0\n",
    "            self.spent_time = 0\n",
    "            self.truck = None\n",
    "            return truck\n",
    "        \n",
    "        return None"
   ]
  },
  {
   "cell_type": "markdown",
   "metadata": {},
   "source": [
    "## Loader class"
   ]
  },
  {
   "cell_type": "code",
   "execution_count": 130,
   "metadata": {
    "ExecuteTime": {
     "end_time": "2020-11-07T14:29:05.987400Z",
     "start_time": "2020-11-07T14:29:05.953215Z"
    }
   },
   "outputs": [],
   "source": [
    "class Loader:\n",
    "    def __init__(self, id):\n",
    "        self.truck = None\n",
    "        self.id = id\n",
    "        self.loading_time = 0\n",
    "        self.spent_time = 0\n",
    "        \n",
    "        \n",
    "    def add_truck(self, truck):\n",
    "        if truck:\n",
    "            self.loading_time = np.random.choice(loading_times, p=loading_probabilities, size=(1))[0]\n",
    "            self.spent_time = 0\n",
    "            self.truck = truck\n",
    "            truck.state = LOADING\n",
    "            print(\"loading truck {} with loader at {}\".format(truck.plate, self.id, self.loading_time))\n",
    "    \n",
    "    \n",
    "    def ended(self):\n",
    "        if self.spent_time == self.loading_time:\n",
    "            print(\"loader {}: loading of truck {} finished at {}\".format(self.id, truck.plate, t))\n",
    "            truck = self.truck\n",
    "            self.truck = None\n",
    "            self.spent_time = 0\n",
    "            self.loading_time = 0\n",
    "            return truck\n",
    "        \n",
    "        return None"
   ]
  },
  {
   "cell_type": "markdown",
   "metadata": {},
   "source": [
    "## Initializing"
   ]
  },
  {
   "cell_type": "code",
   "execution_count": null,
   "metadata": {
    "ExecuteTime": {
     "start_time": "2020-11-07T14:48:10.287Z"
    }
   },
   "outputs": [],
   "source": [
    "def get_all_trucks():\n",
    "    return [Truck(i) for i in range(NUMBER_OF_TRUCKS)]\n",
    "\n",
    "\n",
    "def get_all_loaders():\n",
    "    return [Loader(i) for i in range(NUMBER_OF_LOADERS)]\n",
    "\n",
    "trucks = get_all_trucks()\n",
    "loaders = get_all_loaders()\n",
    "scaler = Scaler()\n",
    "\n",
    "number_of_travels = 0\n",
    "loading_queue, weighting_queue = list(), list()\n",
    "\n",
    "for truck in trucks:\n",
    "    loading_queue.append(truck)\n",
    "    "
   ]
  },
  {
   "cell_type": "code",
   "execution_count": 134,
   "metadata": {
    "ExecuteTime": {
     "end_time": "2020-11-07T14:30:32.294796Z",
     "start_time": "2020-11-07T14:30:32.279838Z"
    }
   },
   "outputs": [
    {
     "data": {
      "text/plain": [
       "0"
      ]
     },
     "execution_count": 134,
     "metadata": {},
     "output_type": "execute_result"
    }
   ],
   "source": [
    "while number_of_travels <= MAX_TRAVELS_NUMBER:\n",
    "    for truck in trucks:\n",
    "        if truck.state == TRAVELING:\n",
    "            truck.spent_time += 1\n",
    "            if truck.ended():\n",
    "                number_of_travels += 1\n",
    "                loading_queue.append(truck)\n",
    "                truck.state = LOADING_QUEUE\n",
    "    \n",
    "    for loader in loaders:\n",
    "        if loader.truck:\n",
    "            loader.spent_time += 1\n",
    "            truck_ended = loader.ended()\n",
    "            if truck_ended:\n",
    "                weighting_queue.append(truck_ended)\n",
    "                truck_ended.state = WEIGHING_QUEUE\n",
    "            if loader.truck == None:\n",
    "                if len(loading_queue):\n",
    "                    loader.add_truck(loading_queue.pop(0))\n",
    "                    \n",
    "    if scaler.truck:\n",
    "        scaler.spent_time += 1\n",
    "        truck_ended = scaler.ended()\n",
    "        if truck_ended:\n",
    "            truck.traveling()\n",
    "    else:\n",
    "        if len(weighting_queue):\n",
    "            scaler.add_truck(weighting_queue.pop(0))\n",
    "    t += 1"
   ]
  }
 ],
 "metadata": {
  "kernelspec": {
   "display_name": "Python 3",
   "language": "python",
   "name": "python3"
  },
  "language_info": {
   "codemirror_mode": {
    "name": "ipython",
    "version": 3
   },
   "file_extension": ".py",
   "mimetype": "text/x-python",
   "name": "python",
   "nbconvert_exporter": "python",
   "pygments_lexer": "ipython3",
   "version": "3.6.9"
  }
 },
 "nbformat": 4,
 "nbformat_minor": 2
}
