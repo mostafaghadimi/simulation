{
 "cells": [
  {
   "cell_type": "markdown",
   "metadata": {},
   "source": [
    "# 4"
   ]
  },
  {
   "cell_type": "markdown",
   "metadata": {},
   "source": [
    "A) Average of two random points distance on circle"
   ]
  },
  {
   "cell_type": "code",
   "execution_count": 7,
   "metadata": {
    "ExecuteTime": {
     "end_time": "2020-11-06T18:21:50.246427Z",
     "start_time": "2020-11-06T18:21:50.239418Z"
    }
   },
   "outputs": [],
   "source": [
    "import random\n",
    "from math import sqrt"
   ]
  },
  {
   "cell_type": "code",
   "execution_count": 10,
   "metadata": {
    "ExecuteTime": {
     "end_time": "2020-11-06T18:24:20.748218Z",
     "start_time": "2020-11-06T18:24:17.280615Z"
    }
   },
   "outputs": [
    {
     "data": {
      "text/plain": [
       "1.0236094128051214"
      ]
     },
     "execution_count": 10,
     "metadata": {},
     "output_type": "execute_result"
    }
   ],
   "source": [
    "N = 1000000\n",
    "distances = list()\n",
    "\n",
    "def point_generator():\n",
    "    x = random.random()\n",
    "    y = sqrt(1 - (x * x))\n",
    "    negative = random.randint(0, 1)\n",
    "    if negative:\n",
    "        y = -y\n",
    "    return x, y\n",
    "\n",
    "for i in range(N):\n",
    "    x_1, y_1 = point_generator()\n",
    "    x_2, y_2 = point_generator()\n",
    "    \n",
    "    distance = sqrt((x_2 - x_1) * (x_2 - x_1) + (y_2 - y_1) * (y_2 - y_1))\n",
    "    distances.append(distance)\n",
    "\n",
    "mean = sum(distances) / N\n",
    "mean"
   ]
  },
  {
   "cell_type": "markdown",
   "metadata": {},
   "source": [
    "B) General Answer"
   ]
  },
  {
   "cell_type": "markdown",
   "metadata": {},
   "source": [
    "$$\n",
    "average \\: value \\: d(\\theta) = \\frac{1}{\\pi - 0}\\int_{0}^{\\pi}2sin\\frac{\\theta}{2}d\\theta = \\frac{1}{\\pi}(-4cos(\\frac{\\theta}{2}))_0^{\\pi} = \\frac{4}{\\pi} = 1.27\n",
    "$$"
   ]
  },
  {
   "cell_type": "code",
   "execution_count": null,
   "metadata": {},
   "outputs": [],
   "source": []
  }
 ],
 "metadata": {
  "kernelspec": {
   "display_name": "Python 3",
   "language": "python",
   "name": "python3"
  },
  "language_info": {
   "codemirror_mode": {
    "name": "ipython",
    "version": 3
   },
   "file_extension": ".py",
   "mimetype": "text/x-python",
   "name": "python",
   "nbconvert_exporter": "python",
   "pygments_lexer": "ipython3",
   "version": "3.6.9"
  }
 },
 "nbformat": 4,
 "nbformat_minor": 2
}
