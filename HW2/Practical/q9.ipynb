{
 "cells": [
  {
   "cell_type": "markdown",
   "metadata": {},
   "source": [
    "## Importing Required Package"
   ]
  },
  {
   "cell_type": "code",
   "execution_count": 15,
   "metadata": {
    "ExecuteTime": {
     "end_time": "2020-12-20T19:34:39.555753Z",
     "start_time": "2020-12-20T19:34:39.549091Z"
    }
   },
   "outputs": [],
   "source": [
    "import random\n",
    "import math\n",
    "import matplotlib.pyplot as plt"
   ]
  },
  {
   "cell_type": "markdown",
   "metadata": {},
   "source": [
    "## Combined Linear Congruential"
   ]
  },
  {
   "cell_type": "code",
   "execution_count": 13,
   "metadata": {
    "ExecuteTime": {
     "end_time": "2020-12-20T19:24:21.249664Z",
     "start_time": "2020-12-20T19:24:21.214476Z"
    }
   },
   "outputs": [
    {
     "data": {
      "text/plain": [
       "[0.36,\n",
       " 0.6,\n",
       " 0.22,\n",
       " 0.36,\n",
       " 0.41,\n",
       " 0.8,\n",
       " 0.83,\n",
       " 0.3,\n",
       " 0.05,\n",
       " 0.67,\n",
       " 0.76,\n",
       " 0.01,\n",
       " 0.62,\n",
       " 0.76,\n",
       " 0.81,\n",
       " 0.2,\n",
       " 0.24,\n",
       " 0.7,\n",
       " 0.44,\n",
       " 0.08,\n",
       " 0.16,\n",
       " 0.41,\n",
       " 0.03,\n",
       " 0.16,\n",
       " 0.21,\n",
       " 0.6,\n",
       " 0.63,\n",
       " 0.1,\n",
       " 0.84,\n",
       " 0.47,\n",
       " 0.56,\n",
       " 0.8,\n",
       " 0.42,\n",
       " 0.56,\n",
       " 0.61,\n",
       " 0.01,\n",
       " 0.04,\n",
       " 0.5,\n",
       " 0.25,\n",
       " 0.87,\n",
       " 0.95,\n",
       " 0.21,\n",
       " 0.82,\n",
       " 0.95,\n",
       " 0.02,\n",
       " 0.4,\n",
       " 0.44,\n",
       " 0.9,\n",
       " 0.64,\n",
       " 0.27,\n",
       " 0.36,\n",
       " 0.6,\n",
       " 0.22,\n",
       " 0.36,\n",
       " 0.41,\n",
       " 0.8,\n",
       " 0.83,\n",
       " 0.3,\n",
       " 0.05,\n",
       " 0.67,\n",
       " 0.76,\n",
       " 0.01,\n",
       " 0.62,\n",
       " 0.76,\n",
       " 0.81,\n",
       " 0.2,\n",
       " 0.24,\n",
       " 0.7,\n",
       " 0.44,\n",
       " 0.08,\n",
       " 0.16,\n",
       " 0.41,\n",
       " 0.03,\n",
       " 0.16,\n",
       " 0.21,\n",
       " 0.6,\n",
       " 0.63,\n",
       " 0.1,\n",
       " 0.84,\n",
       " 0.47,\n",
       " 0.56,\n",
       " 0.8,\n",
       " 0.42,\n",
       " 0.56,\n",
       " 0.61,\n",
       " 0.01,\n",
       " 0.04,\n",
       " 0.5,\n",
       " 0.25,\n",
       " 0.87,\n",
       " 0.95,\n",
       " 0.21,\n",
       " 0.82,\n",
       " 0.95,\n",
       " 0.02,\n",
       " 0.4,\n",
       " 0.44,\n",
       " 0.9,\n",
       " 0.64,\n",
       " 0.27,\n",
       " 0.36,\n",
       " 0.6,\n",
       " 0.22,\n",
       " 0.36,\n",
       " 0.41,\n",
       " 0.8,\n",
       " 0.83,\n",
       " 0.3,\n",
       " 0.05,\n",
       " 0.67,\n",
       " 0.76,\n",
       " 0.01,\n",
       " 0.62,\n",
       " 0.76,\n",
       " 0.81,\n",
       " 0.2,\n",
       " 0.24,\n",
       " 0.7,\n",
       " 0.44,\n",
       " 0.08,\n",
       " 0.16,\n",
       " 0.41,\n",
       " 0.03,\n",
       " 0.16,\n",
       " 0.21,\n",
       " 0.6,\n",
       " 0.63,\n",
       " 0.1,\n",
       " 0.84,\n",
       " 0.47,\n",
       " 0.56,\n",
       " 0.8,\n",
       " 0.42,\n",
       " 0.56,\n",
       " 0.61,\n",
       " 0.01,\n",
       " 0.04,\n",
       " 0.5,\n",
       " 0.25,\n",
       " 0.87,\n",
       " 0.95,\n",
       " 0.21,\n",
       " 0.82,\n",
       " 0.95,\n",
       " 0.02,\n",
       " 0.4,\n",
       " 0.44,\n",
       " 0.9,\n",
       " 0.64,\n",
       " 0.27,\n",
       " 0.36,\n",
       " 0.6,\n",
       " 0.22,\n",
       " 0.36,\n",
       " 0.41,\n",
       " 0.8,\n",
       " 0.83,\n",
       " 0.3,\n",
       " 0.05,\n",
       " 0.67,\n",
       " 0.76,\n",
       " 0.01,\n",
       " 0.62,\n",
       " 0.76,\n",
       " 0.81,\n",
       " 0.2,\n",
       " 0.24,\n",
       " 0.7,\n",
       " 0.44,\n",
       " 0.08,\n",
       " 0.16,\n",
       " 0.41,\n",
       " 0.03,\n",
       " 0.16,\n",
       " 0.21,\n",
       " 0.6,\n",
       " 0.63,\n",
       " 0.1,\n",
       " 0.84,\n",
       " 0.47,\n",
       " 0.56,\n",
       " 0.8,\n",
       " 0.42,\n",
       " 0.56,\n",
       " 0.61,\n",
       " 0.01,\n",
       " 0.04,\n",
       " 0.5,\n",
       " 0.25,\n",
       " 0.87,\n",
       " 0.95,\n",
       " 0.21,\n",
       " 0.82,\n",
       " 0.95,\n",
       " 0.02,\n",
       " 0.4,\n",
       " 0.44,\n",
       " 0.9,\n",
       " 0.64]"
      ]
     },
     "execution_count": 13,
     "metadata": {},
     "output_type": "execute_result"
    }
   ],
   "source": [
    "def combined_linear_cong(n = 200):\n",
    "    m1 = 100\n",
    "    c1 = 59\n",
    "    a1 = 36\n",
    "    x10 = 19\n",
    "    m2 = 99\n",
    "    c2 = 41\n",
    "    a2 = 29\n",
    "    x20 = 91\n",
    "    \n",
    "    r = list()\n",
    "    x1 = list()\n",
    "    x2 = list()\n",
    "    \n",
    "    x1.append(x10)\n",
    "    x2.append(x20)\n",
    "    \n",
    "    \n",
    "    for _ in range(1, n):\n",
    "        x1.append((x1[-1] * a1 + c1) % m1)\n",
    "        x2.append((x2[-1] * a2 + c2) % m2)\n",
    "        \n",
    "        x = (x1[-1] - x2[-1]) % (m1 - 1)\n",
    "        \n",
    "        if x is not 0:\n",
    "            r.append(x / m1)\n",
    "        else:\n",
    "            r.append((m1 - 1) / m1)\n",
    "            \n",
    "    return r\n",
    "\n",
    "randoms = combined_linear_cong()      \n",
    "randoms"
   ]
  },
  {
   "cell_type": "code",
   "execution_count": 14,
   "metadata": {
    "ExecuteTime": {
     "end_time": "2020-12-20T19:30:05.362318Z",
     "start_time": "2020-12-20T19:30:05.272920Z"
    }
   },
   "outputs": [
    {
     "data": {
      "text/plain": [
       "'accepted'"
      ]
     },
     "execution_count": 14,
     "metadata": {},
     "output_type": "execute_result"
    }
   ],
   "source": [
    "def kolmogorov_smirnov(sorted_randoms, n = 30, alpha = 0.05):\n",
    "    max_plus, max_minus = -1, -1\n",
    "    for i in range(1, n + 1):\n",
    "        difference = (i / n) - sorted_randoms[i]\n",
    "        if difference > max_plus:\n",
    "            max_plus = difference\n",
    "        difference = sorted_randoms[i] - ((i - 1) / n)\n",
    "        if difference > max_minus:\n",
    "            max_minus = difference\n",
    "            \n",
    "        maximum = max(max_minus, max_plus)\n",
    "        if maximum <= 0.24:\n",
    "            return \"accepted\"\n",
    "        return \"rejected\"\n",
    "        \n",
    "    \n",
    "sorted_randoms = sorted(randoms)\n",
    "kolmogorov_smirnov(sorted_randoms)\n"
   ]
  },
  {
   "cell_type": "code",
   "execution_count": 17,
   "metadata": {
    "ExecuteTime": {
     "end_time": "2020-12-20T19:38:18.898753Z",
     "start_time": "2020-12-20T19:38:18.860919Z"
    }
   },
   "outputs": [
    {
     "data": {
      "text/plain": [
       "'rejected'"
      ]
     },
     "execution_count": 17,
     "metadata": {},
     "output_type": "execute_result"
    }
   ],
   "source": [
    "def chi_square(randoms, n = 20, alpha = 0.1):\n",
    "    N = len(randoms)\n",
    "    intervals = [0] * n\n",
    "    for i in range(N):\n",
    "        point = math.floor(randoms[i] * n)\n",
    "        intervals[point] += 1\n",
    "    \n",
    "    summation = 0\n",
    "    for i in range(n):\n",
    "        value = intervals[i] - 10\n",
    "        summation += math.pow(value, 2) / 10\n",
    "        \n",
    "    if summation <= 27.2:\n",
    "        return \"accepted\"\n",
    "    return \"rejected\"\n",
    "        \n",
    "    \n",
    "chi_square(randoms)"
   ]
  },
  {
   "cell_type": "code",
   "execution_count": 26,
   "metadata": {
    "ExecuteTime": {
     "end_time": "2020-12-20T19:56:57.037858Z",
     "start_time": "2020-12-20T19:56:57.019505Z"
    }
   },
   "outputs": [
    {
     "name": "stdout",
     "output_type": "stream",
     "text": [
      "correlation for i: 3 and m: 5 equals to -1.0\n",
      "correlation for i: 2 and m: 6 equals to -1.0\n"
     ]
    }
   ],
   "source": [
    "def correlation(randoms, i, m):\n",
    "    summation, cnt = 0, 0\n",
    "    N = len(randoms)\n",
    "    while (m * (cnt + 1)) + i <= N:\n",
    "        first = randoms[m * cnt + i - 1]\n",
    "        second = randoms[m * (cnt + 1) + i - 1]\n",
    "        summation += first * second\n",
    "        cnt += 1\n",
    "    \n",
    "    summation = (summation / (cnt + 1)) - 0.25\n",
    "    corr = summation // ((math.sqrt((13 * cnt + 7) / (12 * (cnt + 1)))))\n",
    "    print(f\"correlation for i: {i} and m: {m} equals to {corr}\")\n",
    "    \n",
    "correlation(randoms, 3, 5)\n",
    "correlation(randoms, 2, 6)"
   ]
  },
  {
   "cell_type": "code",
   "execution_count": null,
   "metadata": {},
   "outputs": [],
   "source": []
  }
 ],
 "metadata": {
  "kernelspec": {
   "display_name": "Python 3",
   "language": "python",
   "name": "python3"
  },
  "language_info": {
   "codemirror_mode": {
    "name": "ipython",
    "version": 3
   },
   "file_extension": ".py",
   "mimetype": "text/x-python",
   "name": "python",
   "nbconvert_exporter": "python",
   "pygments_lexer": "ipython3",
   "version": "3.6.9"
  }
 },
 "nbformat": 4,
 "nbformat_minor": 2
}
